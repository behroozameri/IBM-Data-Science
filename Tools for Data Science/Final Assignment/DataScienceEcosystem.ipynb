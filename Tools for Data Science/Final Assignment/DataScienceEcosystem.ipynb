{
 "cells": [
  {
   "cell_type": "markdown",
   "id": "6d4651b2-08e3-4280-a035-0ac4235ca1ec",
   "metadata": {},
   "source": [
    "# Data Science Tools and Ecosystem"
   ]
  },
  {
   "cell_type": "markdown",
   "id": "3194eb70-60b0-4cb2-a4da-569876003ad5",
   "metadata": {},
   "source": [
    "In this notebook, Data Science Tools and Ecosystem are summarized."
   ]
  },
  {
   "cell_type": "markdown",
   "id": "b98c40e4-a8f1-4d3d-8092-ed30930f5709",
   "metadata": {},
   "source": [
    "**Objectives:**\n",
    "* List popular languages for Data Science\n",
    "* Libraries for Data Science\n",
    "* Introduction to Jupyter Notebooks\n",
    "* Introduction to GitHub"
   ]
  },
  {
   "cell_type": "markdown",
   "id": "f250eded-9726-42c7-b434-34ec843032b8",
   "metadata": {},
   "source": [
    "Some of the popular languages that Data Scientists use are:\n",
    "\n",
    "    1- Python\n",
    "    \n",
    "    2- R\n",
    "    \n",
    "    3- Julia\n"
   ]
  },
  {
   "cell_type": "markdown",
   "id": "2b2bcfa5-06ea-4460-8271-f78e05437fda",
   "metadata": {},
   "source": [
    "Some of the commonly used libraries used by Data Scientists include:\n",
    "\n",
    "    1- Pandas\n",
    "\n",
    "    2- Numpy\n",
    "\n",
    "    3- Matplotlib"
   ]
  },
  {
   "cell_type": "markdown",
   "id": "f1e1f929-247f-4ff4-b790-c11bf4484c5d",
   "metadata": {},
   "source": [
    "Data Science Tools:\n",
    "\n",
    "    1- RStudio\n",
    "\n",
    "    2- Apache Spark\n",
    "\n",
    "    3- TensorFlow"
   ]
  },
  {
   "cell_type": "markdown",
   "id": "29bb82b4-07a7-45e5-91c1-bf561d7995ca",
   "metadata": {
    "tags": []
   },
   "source": [
    "### Below are a few examples of evaluating arithmetic expressions in Python"
   ]
  },
  {
   "cell_type": "code",
   "execution_count": 2,
   "id": "5d3c8bf4-6807-4f10-90d9-43ebe34da90b",
   "metadata": {
    "tags": []
   },
   "outputs": [
    {
     "data": {
      "text/plain": [
       "17"
      ]
     },
     "execution_count": 2,
     "metadata": {},
     "output_type": "execute_result"
    }
   ],
   "source": [
    "#  This a simple arithmetic expression to mutiply then add integers\n",
    "\n",
    "(3*4)+5"
   ]
  },
  {
   "cell_type": "code",
   "execution_count": 5,
   "id": "21050d3f-28f9-4730-82d2-d6d563880107",
   "metadata": {
    "tags": []
   },
   "outputs": [
    {
     "data": {
      "text/plain": [
       "3.3333333333333335"
      ]
     },
     "execution_count": 5,
     "metadata": {},
     "output_type": "execute_result"
    }
   ],
   "source": [
    "# This will convert 200 minutes to hours by diving by 60\n",
    "\n",
    "200 / 60 "
   ]
  },
  {
   "cell_type": "markdown",
   "id": "207d0536-4b0b-4548-a998-3ae588c61701",
   "metadata": {},
   "source": [
    "## Author\n",
    "Behrooz Ameri"
   ]
  },
  {
   "cell_type": "code",
   "execution_count": null,
   "id": "9f5d4e26-8f81-40ab-950a-c616c103bd4d",
   "metadata": {},
   "outputs": [],
   "source": []
  }
 ],
 "metadata": {
  "kernelspec": {
   "display_name": "Python 3 (ipykernel)",
   "language": "python",
   "name": "python3"
  },
  "language_info": {
   "codemirror_mode": {
    "name": "ipython",
    "version": 3
   },
   "file_extension": ".py",
   "mimetype": "text/x-python",
   "name": "python",
   "nbconvert_exporter": "python",
   "pygments_lexer": "ipython3",
   "version": "3.11.3"
  }
 },
 "nbformat": 4,
 "nbformat_minor": 5
}
